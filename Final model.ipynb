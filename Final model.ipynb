{
 "cells": [
  {
   "cell_type": "markdown",
   "id": "ac96c740",
   "metadata": {},
   "source": [
    "# Final model"
   ]
  },
  {
   "cell_type": "code",
   "execution_count": 16,
   "id": "cda1e93f",
   "metadata": {},
   "outputs": [
    {
     "name": "stdout",
     "output_type": "stream",
     "text": [
      "numpy: 1.21.2\n",
      "tensorflow: 2.6.0\n"
     ]
    }
   ],
   "source": [
    "#Imports\n",
    "import numpy as np # linear algebra\n",
    "print('numpy: {}'.format(np.__version__))\n",
    "import matplotlib.pyplot as plt\n",
    "import os\n",
    "from os.path import join\n",
    "from sklearn.model_selection import train_test_split\n",
    "\n",
    "from skimage.io import imread\n",
    "from skimage.transform import resize\n",
    "import pydicom as dicom\n",
    "\n",
    "import tensorflow as tf\n",
    "print('tensorflow: {}'.format(tf.__version__))\n",
    "\n",
    "from tensorflow import keras\n",
    "from tensorflow.keras import datasets, layers, models\n",
    "from tensorflow.keras.preprocessing.image import ImageDataGenerator\n",
    "from tensorflow.keras.models import Sequential\n",
    "from tensorflow.keras.layers import Dense, Dropout, Activation, Flatten\n",
    "from tensorflow.keras.layers import Conv2D, MaxPooling2D\n",
    "\n",
    "\n",
    "from tensorflow.keras.callbacks import TensorBoard\n",
    "\n",
    "import pickle"
   ]
  },
  {
   "cell_type": "code",
   "execution_count": 17,
   "id": "cb17ad3b",
   "metadata": {
    "scrolled": true
   },
   "outputs": [
    {
     "name": "stdout",
     "output_type": "stream",
     "text": [
      "final_mdl_test20220329-213817\n",
      "584\n",
      "584\n",
      "[[0. 1.]\n",
      " [0. 1.]\n",
      " [1. 0.]\n",
      " ...\n",
      " [0. 1.]\n",
      " [1. 0.]\n",
      " [1. 0.]]\n",
      "['1', '1', '0', '1', '1', '1', '0', '1', '1', '1', '0', '0', '0', '1', '0', '0', '0', '1', '1', '1', '0', '1', '0', '1', '1', '0', '1', '0', '0', '1', '1', '0', '1', '0', '1', '1', '1', '1', '1', '0', '1', '1', '0', '1', '1', '1', '1', '0', '1', '1', '1', '0', '0', '1', '1', '0', '1', '0', '1', '0', '1', '0', '1', '0', '1', '0', '0', '1', '1', '1', '0', '1', '0', '0', '0', '0', '0', '1', '1', '0', '0', '0', '0', '1', '0', '0', '0', '1', '1', '0', '1', '1', '1', '0', '1', '1', '1', '0', '0', '0', '0', '0', '0', '1', '1', '0', '0', '1', '1', '0', '0', '1', '0', '0', '0', '1', '0', '0', '1', '1', '0', '0', '1', '1', '1', '1', '0', '0', '0', '0', '0', '1', '1', '1', '0', '1', '1', '0', '0', '1', '0', '1', '0', '0', '0', '0', '0', '1', '0', '1', '0', '0', '1', '0', '1', '1', '1', '0', '0', '0', '0', '1', '0', '0', '0', '1', '1', '0', '0', '1', '0', '1', '1', '0', '0', '1', '0', '0', '1', '0', '0', '0', '1', '1', '1', '0', '0', '0', '1', '1', '0', '1', '1', '0', '0', '0', '0', '1', '1', '1', '1', '0', '0', '1', '0', '0', '1', '1', '1', '1', '0', '0', '0', '1', '0', '1', '0', '0', '1', '0', '0', '1', '1', '0', '0', '0', '1', '1', '1', '1', '1', '0', '1', '0', '1', '0', '0', '1', '0', '0', '0', '0', '1', '0', '1', '0', '0', '1', '1', '1', '1', '1', '1', '1', '1', '0', '0', '0', '0', '0', '0', '0', '1', '1', '0', '0', '0', '0', '0', '0', '0', '0', '0', '1', '0', '0', '1', '1', '0', '1', '0', '1', '1', '0', '0', '1', '0', '1', '0', '0', '0', '0', '0', '1', '1', '1', '0', '1', '0', '0', '1', '1', '0', '1', '1', '0', '0', '0', '1', '1', '0', '0', '0', '1', '1', '0', '0', '1', '1', '0', '1', '1', '0', '1', '1', '1', '0', '1', '1', '1', '1', '1', '1', '0', '0', '0', '1', '1', '1', '1', '1', '1', '1', '0', '0', '1', '0', '1', '0', '1', '1', '0', '0', '1', '1', '1', '1', '1', '1', '1', '0', '1', '0', '1', '0', '1', '0', '1', '1', '1', '0', '0', '1', '1', '1', '1', '1', '1', '0', '1', '1', '1', '1', '1', '0', '1', '0', '0', '0', '0', '1', '0', '0', '0', '0', '1', '1', '0', '1', '0', '1', '1', '1', '1', '0', '0', '0', '1', '0', '1', '1', '0', '1', '1', '1', '0', '1', '1', '0', '1', '1', '1', '1', '1', '1', '1', '1', '0', '1', '0', '0', '1', '1', '0', '0', '1', '1', '1', '0', '1', '0', '1', '1', '1', '0', '0', '0', '1', '0', '1', '0', '1', '0', '1', '1', '0', '1', '1', '1', '0', '0', '0', '1', '1', '1', '1', '1', '1', '0', '0', '0', '0', '0', '0', '0', '1', '1', '1', '1', '1', '1', '1', '0', '1', '1', '0', '1', '1', '0', '1', '1', '1', '1', '0', '0', '1', '0', '0', '0', '0', '1', '1', '0', '0', '0', '1', '1', '1', '1', '0', '0', '1', '0', '1', '0', '0', '0', '1', '1', '0', '1', '0', '1', '0', '1', '1', '1', '0', '1', '1', '0', '0', '1', '1', '1', '1', '0', '1', '1', '0', '1', '1', '1', '0', '0', '0', '0', '1', '0', '0', '0', '0', '0', '1', '1', '0', '0', '1', '0', '1', '1', '0', '1', '0', '1', '0', '0', '0', '0', '1', '0', '1', '1', '1', '1', '1', '1', '1', '0', '1', '1', '1', '0', '0']\n"
     ]
    }
   ],
   "source": [
    "#Data prep, loading the dataset \n",
    "\n",
    "import datetime\n",
    "\n",
    "NAME = \"final_mdl_test\" + datetime.datetime.now().strftime(\"%Y%m%d-%H%M%S\")\n",
    "print(NAME)\n",
    "\n",
    "tensorboard = TensorBoard(log_dir=\"logs/{}\".format(NAME))\n",
    "\n",
    "pickle_in = open(\"train_x.pickle\",\"rb\")\n",
    "train_x = pickle.load(pickle_in)\n",
    "\n",
    "pickle_in = open(\"train_y.pickle\",\"rb\")\n",
    "train_y = pickle.load(pickle_in)\n",
    "\n",
    "train_x = train_x/255.0-0.5\n",
    "print(len(train_x))\n",
    "\n",
    "train_y_1D = train_y\n",
    "train_y = np.asarray(train_y).astype('float32').reshape((-1,1))\n",
    "\n",
    "train_y = tf.keras.utils.to_categorical(train_y)\n",
    "print(len(train_y))\n",
    "\n",
    "print(train_y)\n",
    "print(train_y_1D)"
   ]
  },
  {
   "cell_type": "code",
   "execution_count": 18,
   "id": "9a565233",
   "metadata": {
    "scrolled": true
   },
   "outputs": [
    {
     "name": "stdout",
     "output_type": "stream",
     "text": [
      "['1', '0', '0', '1', '0', '1', '1', '1', '0', '0', '0', '1', '1', '0', '0', '0', '1', '1', '1', '1', '0', '1', '1', '1', '1', '0', '0', '1', '0', '0', '1', '1', '1', '1', '0', '1', '0', '1', '0', '0', '0', '1', '1', '0', '0', '1', '1', '0', '1', '0', '0', '0', '1', '0', '0', '1', '1', '1', '1']\n",
      "[[0. 1.]\n",
      " [1. 0.]\n",
      " [1. 0.]\n",
      " [0. 1.]\n",
      " [1. 0.]\n",
      " [0. 1.]\n",
      " [0. 1.]\n",
      " [0. 1.]\n",
      " [1. 0.]\n",
      " [1. 0.]\n",
      " [1. 0.]\n",
      " [0. 1.]\n",
      " [0. 1.]\n",
      " [1. 0.]\n",
      " [1. 0.]\n",
      " [1. 0.]\n",
      " [0. 1.]\n",
      " [0. 1.]\n",
      " [0. 1.]\n",
      " [0. 1.]\n",
      " [1. 0.]\n",
      " [0. 1.]\n",
      " [0. 1.]\n",
      " [0. 1.]\n",
      " [0. 1.]\n",
      " [1. 0.]\n",
      " [1. 0.]\n",
      " [0. 1.]\n",
      " [1. 0.]\n",
      " [1. 0.]\n",
      " [0. 1.]\n",
      " [0. 1.]\n",
      " [0. 1.]\n",
      " [0. 1.]\n",
      " [1. 0.]\n",
      " [0. 1.]\n",
      " [1. 0.]\n",
      " [0. 1.]\n",
      " [1. 0.]\n",
      " [1. 0.]\n",
      " [1. 0.]\n",
      " [0. 1.]\n",
      " [0. 1.]\n",
      " [1. 0.]\n",
      " [1. 0.]\n",
      " [0. 1.]\n",
      " [0. 1.]\n",
      " [1. 0.]\n",
      " [0. 1.]\n",
      " [1. 0.]\n",
      " [1. 0.]\n",
      " [1. 0.]\n",
      " [0. 1.]\n",
      " [1. 0.]\n",
      " [1. 0.]\n",
      " [0. 1.]\n",
      " [0. 1.]\n",
      " [0. 1.]\n",
      " [0. 1.]]\n"
     ]
    }
   ],
   "source": [
    "train_xx, test_x, train_yy_1D, test_y_1D = train_test_split(train_x, train_y_1D, test_size=0.1)\n",
    "\n",
    "#keeping 1D array of test label to use it for the confusion matrix \n",
    "train_yy = np.asarray(train_yy_1D).astype('float32').reshape((-1,1))\n",
    "train_yy = tf.keras.utils.to_categorical(train_yy)\n",
    "test_y = np.asarray(test_y_1D).astype('float32').reshape((-1,1))\n",
    "test_y = tf.keras.utils.to_categorical(test_y)\n",
    "print(test_y_1D)\n",
    "print(test_y)\n",
    "\n",
    "train_X, val_X, train_Y, val_Y = train_test_split(train_xx, train_yy, test_size=0.15) #split un test dataset de ici aussi, par defaut c'est shuffled "
   ]
  },
  {
   "cell_type": "code",
   "execution_count": 19,
   "id": "a3402ea0",
   "metadata": {},
   "outputs": [
    {
     "name": "stdout",
     "output_type": "stream",
     "text": [
      "<tf.Variable 'learning_rate:0' shape=() dtype=float32, numpy=1e-04>\n"
     ]
    }
   ],
   "source": [
    "from keras import backend as K\n",
    "optimizer = tf.keras.optimizers.Adam(0.001)\n",
    "optimizer.learning_rate.assign(0.0001)\n",
    "print(optimizer.learning_rate)"
   ]
  },
  {
   "cell_type": "code",
   "execution_count": 20,
   "id": "a11d7dde",
   "metadata": {},
   "outputs": [
    {
     "name": "stdout",
     "output_type": "stream",
     "text": [
      "Model: \"sequential_2\"\n",
      "_________________________________________________________________\n",
      "Layer (type)                 Output Shape              Param #   \n",
      "=================================================================\n",
      "conv2d_9 (Conv2D)            (None, 126, 126, 32)      896       \n",
      "_________________________________________________________________\n",
      "conv2d_10 (Conv2D)           (None, 124, 124, 32)      9248      \n",
      "_________________________________________________________________\n",
      "conv2d_11 (Conv2D)           (None, 122, 122, 32)      9248      \n",
      "_________________________________________________________________\n",
      "activation_10 (Activation)   (None, 122, 122, 32)      0         \n",
      "_________________________________________________________________\n",
      "max_pooling2d_3 (MaxPooling2 (None, 61, 61, 32)        0         \n",
      "_________________________________________________________________\n",
      "conv2d_12 (Conv2D)           (None, 59, 59, 16)        4624      \n",
      "_________________________________________________________________\n",
      "conv2d_13 (Conv2D)           (None, 57, 57, 16)        2320      \n",
      "_________________________________________________________________\n",
      "conv2d_14 (Conv2D)           (None, 55, 55, 16)        2320      \n",
      "_________________________________________________________________\n",
      "activation_11 (Activation)   (None, 55, 55, 16)        0         \n",
      "_________________________________________________________________\n",
      "max_pooling2d_4 (MaxPooling2 (None, 27, 27, 16)        0         \n",
      "_________________________________________________________________\n",
      "conv2d_15 (Conv2D)           (None, 25, 25, 8)         1160      \n",
      "_________________________________________________________________\n",
      "conv2d_16 (Conv2D)           (None, 23, 23, 8)         584       \n",
      "_________________________________________________________________\n",
      "conv2d_17 (Conv2D)           (None, 21, 21, 8)         584       \n",
      "_________________________________________________________________\n",
      "activation_12 (Activation)   (None, 21, 21, 8)         0         \n",
      "_________________________________________________________________\n",
      "max_pooling2d_5 (MaxPooling2 (None, 10, 10, 8)         0         \n",
      "_________________________________________________________________\n",
      "flatten_1 (Flatten)          (None, 800)               0         \n",
      "_________________________________________________________________\n",
      "dense_2 (Dense)              (None, 32)                25632     \n",
      "_________________________________________________________________\n",
      "dropout (Dropout)            (None, 32)                0         \n",
      "_________________________________________________________________\n",
      "activation_13 (Activation)   (None, 32)                0         \n",
      "_________________________________________________________________\n",
      "dense_3 (Dense)              (None, 2)                 66        \n",
      "_________________________________________________________________\n",
      "activation_14 (Activation)   (None, 2)                 0         \n",
      "=================================================================\n",
      "Total params: 56,682\n",
      "Trainable params: 56,682\n",
      "Non-trainable params: 0\n",
      "_________________________________________________________________\n"
     ]
    }
   ],
   "source": [
    "#Model\n",
    "\n",
    "model = Sequential()\n",
    "\n",
    "model.add(Conv2D(32, (3, 3), input_shape=train_x.shape[1:]))  #64param\n",
    "model.add(Conv2D(32, (3, 3)))\n",
    "model.add(Conv2D(32, (3, 3))) #rajouter des conv pour pas diminuer la taille du réseau trop rapidement \n",
    "model.add(Activation('relu'))\n",
    "model.add(MaxPooling2D(pool_size=(2, 2)))\n",
    "\n",
    "model.add(Conv2D(16, (3, 3)))\n",
    "model.add(Conv2D(16, (3, 3)))\n",
    "model.add(Conv2D(16, (3, 3)))\n",
    "model.add(Activation('relu'))\n",
    "model.add(MaxPooling2D(pool_size=(2, 2)))\n",
    "\n",
    "model.add(Conv2D(8, (3, 3)))\n",
    "model.add(Conv2D(8, (3, 3)))\n",
    "model.add(Conv2D(8, (3, 3)))\n",
    "model.add(Activation('relu'))\n",
    "model.add(MaxPooling2D(pool_size=(2, 2)))\n",
    "\n",
    "model.add(Flatten())  # this converts our 3D feature maps to 1D feature vectors\n",
    "\n",
    "model.add(Dense(32)) #Fully connected layer, needs 1D ds\n",
    "model.add(Dropout(0.2)) #freeze 20% des poids\n",
    "model.add(Activation('relu'))\n",
    "\n",
    "model.add(Dense(2)) #mieux de faire sortir 2 classes \n",
    "model.add(Activation('softmax')) #activation=fct non lineaire, pb sigmoid=grad tres faible pr petites val -> mieux d'utiliser relu (grad 0 ou 1, pas de vanishing grad)\n",
    "\n",
    "model.compile(loss='categorical_crossentropy',\n",
    "              optimizer=optimizer,\n",
    "              metrics=['categorical_accuracy'])\n",
    "\n",
    "model.summary()"
   ]
  },
  {
   "cell_type": "code",
   "execution_count": 21,
   "id": "7b868a6e",
   "metadata": {},
   "outputs": [
    {
     "name": "stdout",
     "output_type": "stream",
     "text": [
      "Epoch 1/30\n",
      "75/75 [==============================] - 28s 337ms/step - loss: 0.6953 - categorical_accuracy: 0.5179 - val_loss: 0.6912 - val_categorical_accuracy: 0.4810\n",
      "Epoch 2/30\n",
      "75/75 [==============================] - 14s 184ms/step - loss: 0.6889 - categorical_accuracy: 0.5561 - val_loss: 0.6949 - val_categorical_accuracy: 0.5063\n",
      "Epoch 3/30\n",
      "75/75 [==============================] - 13s 170ms/step - loss: 0.6822 - categorical_accuracy: 0.5538 - val_loss: 0.6921 - val_categorical_accuracy: 0.5190\n",
      "Epoch 4/30\n",
      "75/75 [==============================] - 11s 142ms/step - loss: 0.6797 - categorical_accuracy: 0.5605 - val_loss: 0.6953 - val_categorical_accuracy: 0.5190\n",
      "Epoch 5/30\n",
      "75/75 [==============================] - 10s 138ms/step - loss: 0.6657 - categorical_accuracy: 0.6143 - val_loss: 0.7103 - val_categorical_accuracy: 0.5190\n",
      "Epoch 6/30\n",
      "75/75 [==============================] - 10s 136ms/step - loss: 0.6590 - categorical_accuracy: 0.6099 - val_loss: 0.7204 - val_categorical_accuracy: 0.4810\n",
      "Epoch 7/30\n",
      "75/75 [==============================] - 8s 108ms/step - loss: 0.6453 - categorical_accuracy: 0.6368 - val_loss: 0.7214 - val_categorical_accuracy: 0.5190\n",
      "Epoch 8/30\n",
      "75/75 [==============================] - 12s 155ms/step - loss: 0.6432 - categorical_accuracy: 0.6099 - val_loss: 0.7320 - val_categorical_accuracy: 0.5443\n",
      "Epoch 9/30\n",
      "75/75 [==============================] - 9s 118ms/step - loss: 0.6169 - categorical_accuracy: 0.6413 - val_loss: 0.7193 - val_categorical_accuracy: 0.5443\n",
      "Epoch 10/30\n",
      "75/75 [==============================] - 10s 136ms/step - loss: 0.6188 - categorical_accuracy: 0.6682 - val_loss: 0.7401 - val_categorical_accuracy: 0.5190\n",
      "Epoch 11/30\n",
      "75/75 [==============================] - 9s 126ms/step - loss: 0.6054 - categorical_accuracy: 0.6883 - val_loss: 0.7657 - val_categorical_accuracy: 0.5316\n",
      "Epoch 12/30\n",
      "75/75 [==============================] - 10s 128ms/step - loss: 0.5749 - categorical_accuracy: 0.6928 - val_loss: 0.7620 - val_categorical_accuracy: 0.5443\n",
      "Epoch 13/30\n",
      "75/75 [==============================] - 14s 185ms/step - loss: 0.5697 - categorical_accuracy: 0.7197 - val_loss: 0.8086 - val_categorical_accuracy: 0.5696\n",
      "Epoch 14/30\n",
      "75/75 [==============================] - 10s 131ms/step - loss: 0.5532 - categorical_accuracy: 0.6951 - val_loss: 0.8217 - val_categorical_accuracy: 0.5316\n",
      "Epoch 15/30\n",
      "75/75 [==============================] - 8s 111ms/step - loss: 0.5309 - categorical_accuracy: 0.7220 - val_loss: 0.8430 - val_categorical_accuracy: 0.5063\n",
      "Epoch 16/30\n",
      "75/75 [==============================] - 9s 120ms/step - loss: 0.5015 - categorical_accuracy: 0.7601 - val_loss: 0.8934 - val_categorical_accuracy: 0.4937\n",
      "Epoch 17/30\n",
      "75/75 [==============================] - 10s 138ms/step - loss: 0.4767 - categorical_accuracy: 0.7892 - val_loss: 0.9279 - val_categorical_accuracy: 0.4937\n",
      "Epoch 18/30\n",
      "75/75 [==============================] - 9s 114ms/step - loss: 0.4682 - categorical_accuracy: 0.7937 - val_loss: 0.9545 - val_categorical_accuracy: 0.4557\n",
      "Epoch 19/30\n",
      "75/75 [==============================] - 12s 157ms/step - loss: 0.4325 - categorical_accuracy: 0.8049 - val_loss: 0.9497 - val_categorical_accuracy: 0.4810\n",
      "Epoch 20/30\n",
      "75/75 [==============================] - 9s 117ms/step - loss: 0.4377 - categorical_accuracy: 0.7848 - val_loss: 1.0027 - val_categorical_accuracy: 0.4937\n",
      "Epoch 21/30\n",
      "75/75 [==============================] - 9s 119ms/step - loss: 0.3880 - categorical_accuracy: 0.8408 - val_loss: 1.0425 - val_categorical_accuracy: 0.4937\n",
      "Epoch 22/30\n",
      "75/75 [==============================] - 9s 114ms/step - loss: 0.3430 - categorical_accuracy: 0.8610 - val_loss: 1.1015 - val_categorical_accuracy: 0.4810\n",
      "Epoch 23/30\n",
      "75/75 [==============================] - 10s 128ms/step - loss: 0.3598 - categorical_accuracy: 0.8587 - val_loss: 1.1000 - val_categorical_accuracy: 0.5063\n",
      "Epoch 24/30\n",
      "75/75 [==============================] - 13s 175ms/step - loss: 0.3272 - categorical_accuracy: 0.8677 - val_loss: 1.2050 - val_categorical_accuracy: 0.4810\n",
      "Epoch 25/30\n",
      "75/75 [==============================] - 9s 116ms/step - loss: 0.3303 - categorical_accuracy: 0.8498 - val_loss: 1.2595 - val_categorical_accuracy: 0.5063\n",
      "Epoch 26/30\n",
      "75/75 [==============================] - 11s 145ms/step - loss: 0.2761 - categorical_accuracy: 0.8901 - val_loss: 1.3359 - val_categorical_accuracy: 0.4810\n",
      "Epoch 27/30\n",
      "75/75 [==============================] - 10s 126ms/step - loss: 0.2579 - categorical_accuracy: 0.8924 - val_loss: 1.3992 - val_categorical_accuracy: 0.4304\n",
      "Epoch 28/30\n",
      "75/75 [==============================] - 9s 122ms/step - loss: 0.2291 - categorical_accuracy: 0.9193 - val_loss: 1.5147 - val_categorical_accuracy: 0.4304\n",
      "Epoch 29/30\n",
      "75/75 [==============================] - 12s 158ms/step - loss: 0.2258 - categorical_accuracy: 0.9058 - val_loss: 1.5380 - val_categorical_accuracy: 0.4937\n",
      "Epoch 30/30\n",
      "75/75 [==============================] - 9s 123ms/step - loss: 0.1730 - categorical_accuracy: 0.9305 - val_loss: 1.7062 - val_categorical_accuracy: 0.4810\n"
     ]
    },
    {
     "data": {
      "text/plain": [
       "<keras.callbacks.History at 0x24109e593a0>"
      ]
     },
     "execution_count": 21,
     "metadata": {},
     "output_type": "execute_result"
    }
   ],
   "source": [
    "model.fit(train_X ,train_Y, batch_size=6, epochs=30, validation_data = (val_X, val_Y) ,callbacks=[tensorboard])"
   ]
  },
  {
   "cell_type": "code",
   "execution_count": 22,
   "id": "16eadddc",
   "metadata": {},
   "outputs": [],
   "source": [
    "import visualkeras\n",
    "#source : https://github.com/paulgavrikov/visualkeras"
   ]
  },
  {
   "cell_type": "code",
   "execution_count": 23,
   "id": "e7786363",
   "metadata": {},
   "outputs": [
    {
     "data": {
      "image/png": "[encoded data removed]",
      "text/plain": [
       "<PIL.Image.Image image mode=RGBA size=788x672 at 0x241179EEB50>"
      ]
     },
     "execution_count": 23,
     "metadata": {},
     "output_type": "execute_result"
    }
   ],
   "source": [
    "from tensorflow.python.keras.layers import Dense, Conv2D, Flatten, Dropout, MaxPooling2D, ZeroPadding2D\n",
    "from collections import defaultdict\n",
    "import visualkeras\n",
    "color_map = defaultdict(dict)\n",
    "color_map[Conv2D]['fill'] = 'lightpink'\n",
    "color_map[Activation]['fill'] = 'mediumvioletred'\n",
    "color_map[Dropout]['fill'] = 'pink'\n",
    "color_map[MaxPooling2D]['fill'] = 'mediumorchid'\n",
    "color_map[Dense]['fill'] = 'palevioletred'\n",
    "color_map[Flatten]['fill'] = 'plum'\n",
    "\n",
    "visualkeras.layered_view(model, color_map=color_map)"
   ]
  },
  {
   "cell_type": "code",
   "execution_count": 24,
   "id": "7f133354",
   "metadata": {},
   "outputs": [],
   "source": [
    "from sklearn.metrics import confusion_matrix, make_scorer, accuracy_score,classification_report\n",
    "import itertools\n",
    "from skimage.io import imread,imsave,imshow\n"
   ]
  },
  {
   "cell_type": "code",
   "execution_count": 25,
   "id": "2951c2c9",
   "metadata": {},
   "outputs": [],
   "source": [
    "def plot_confusion_matrix(cm, classes, normalize=True, title='Confusion matrix', cmap='RdPu'):\n",
    "    \"\"\"\n",
    "    This function prints and plots the confusion matrix.\n",
    "    Normalization can be applied by setting `normalize=True`.\n",
    "    \"\"\"\n",
    "    plt.figure(figsize=(7,7))\n",
    "    plt.imshow(cm, interpolation='nearest', cmap=cmap)\n",
    "    plt.title(title)\n",
    "    plt.colorbar()\n",
    "\n",
    "    tick_marks = np.arange(len(classes))\n",
    "    plt.xticks(tick_marks, classes, rotation=45)\n",
    "    plt.yticks(tick_marks, classes)\n",
    "\n",
    "    if normalize:\n",
    "        cm = cm.astype('float') / cm.sum(axis=1)[:, np.newaxis]\n",
    "        cm = np.around(cm, decimals=2)\n",
    "        cm[np.isnan(cm)] = 0.0\n",
    "        print(\"Normalized confusion matrix\")\n",
    "    else:\n",
    "        print('Confusion matrix, without normalization')\n",
    "    thresh = cm.max() / 2.\n",
    "    for i, j in itertools.product(range(cm.shape[0]), range(cm.shape[1])):\n",
    "        plt.text(j, i, cm[i, j],\n",
    "                 horizontalalignment=\"center\",\n",
    "                 color=\"black\" if cm[i, j] > thresh else \"black\")\n",
    "    plt.tight_layout()\n",
    "    plt.ylabel('True label')\n",
    "    plt.xlabel('Predicted label')\n",
    "    save = imsave('results/confusionmatrix.png',cm)\n",
    "#https://sites.google.com/view/amarnath-r/keras-deep-learning-image-classification-a-simple-example\n"
   ]
  },
  {
   "cell_type": "code",
   "execution_count": 29,
   "id": "80b07ed2",
   "metadata": {},
   "outputs": [
    {
     "name": "stdout",
     "output_type": "stream",
     "text": [
      "(59,)\n",
      "Classification Report\n",
      "              precision    recall  f1-score   support\n",
      "\n",
      "           0       0.36      0.30      0.33        27\n",
      "           1       0.49      0.56      0.52        32\n",
      "\n",
      "    accuracy                           0.44        59\n",
      "   macro avg       0.43      0.43      0.42        59\n",
      "weighted avg       0.43      0.44      0.43        59\n",
      "\n"
     ]
    }
   ],
   "source": [
    "#use the test dataset\n",
    "Y_pred = model.predict(test_x)\n",
    "y_pred = np.argmax(Y_pred, axis=1)\n",
    "\n",
    "print(y_pred.shape)\n",
    "\n",
    "print('Classification Report')\n",
    "target_names = ['0', '1']\n",
    "print(classification_report(test_y_1D, y_pred.astype(str), target_names=target_names))\n",
    "#https://gist.github.com/RyanAkilos/3808c17f79e77c4117de35aa68447045"
   ]
  },
  {
   "cell_type": "code",
   "execution_count": 30,
   "id": "33464711",
   "metadata": {},
   "outputs": [
    {
     "name": "stderr",
     "output_type": "stream",
     "text": [
      "Lossy conversion from float64 to uint8. Range [0, 1]. Convert image to uint8 prior to saving to suppress this warning.\n"
     ]
    },
    {
     "name": "stdout",
     "output_type": "stream",
     "text": [
      "Normalized confusion matrix\n"
     ]
    },
    {
     "data": {
      "image/png": "[encoded data removed]",
      "text/plain": [
       "<Figure size 504x504 with 2 Axes>"
      ]
     },
     "metadata": {
      "needs_background": "light"
     },
     "output_type": "display_data"
    }
   ],
   "source": [
    "#Confusion Matrix \n",
    "cm = confusion_matrix(test_y_1D,y_pred.astype(str))\n",
    "plot_confusion_matrix(cm, target_names, title='Confusion Matrix')"
   ]
  },
  {
   "cell_type": "code",
   "execution_count": null,
   "id": "7a23c69f",
   "metadata": {},
   "outputs": [],
   "source": []
  }
 ],
 "metadata": {
  "kernelspec": {
   "display_name": "Python 3 (ipykernel)",
   "language": "python",
   "name": "python3"
  },
  "language_info": {
   "codemirror_mode": {
    "name": "ipython",
    "version": 3
   },
   "file_extension": ".py",
   "mimetype": "text/x-python",
   "name": "python",
   "nbconvert_exporter": "python",
   "pygments_lexer": "ipython3",
   "version": "3.9.7"
  }
 },
 "nbformat": 4,
 "nbformat_minor": 5
}
