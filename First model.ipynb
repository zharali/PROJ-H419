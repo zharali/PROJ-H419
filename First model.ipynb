{
 "cells": [
  {
   "cell_type": "markdown",
   "id": "d1d1e025",
   "metadata": {},
   "source": [
    "# First model"
   ]
  },
  {
   "cell_type": "code",
   "execution_count": 2,
   "id": "cf7befb8",
   "metadata": {},
   "outputs": [
    {
     "name": "stdout",
     "output_type": "stream",
     "text": [
      "numpy: 1.21.2\n",
      "tensorflow: 2.6.0\n"
     ]
    }
   ],
   "source": [
    "#Imports\n",
    "import numpy as np # linear algebra\n",
    "print('numpy: {}'.format(np.__version__))\n",
    "import matplotlib.pyplot as plt\n",
    "import os\n",
    "from os.path import join\n",
    "from sklearn.model_selection import train_test_split\n",
    "\n",
    "from skimage.io import imread\n",
    "from skimage.transform import resize\n",
    "import pydicom as dicom\n",
    "\n",
    "import tensorflow as tf\n",
    "print('tensorflow: {}'.format(tf.__version__))\n",
    "\n",
    "from tensorflow import keras\n",
    "from tensorflow.keras import datasets, layers, models\n",
    "from tensorflow.keras.preprocessing.image import ImageDataGenerator\n",
    "from tensorflow.keras.models import Sequential\n",
    "from tensorflow.keras.layers import Dense, Dropout, Activation, Flatten\n",
    "from tensorflow.keras.layers import Conv2D, MaxPooling2D\n",
    "\n",
    "\n",
    "from tensorflow.keras.callbacks import TensorBoard\n",
    "\n",
    "import pickle"
   ]
  },
  {
   "cell_type": "code",
   "execution_count": 3,
   "id": "22a59494",
   "metadata": {
    "scrolled": true
   },
   "outputs": [
    {
     "name": "stdout",
     "output_type": "stream",
     "text": [
      "first_mdl_test20220330-154337\n",
      "584\n",
      "584\n",
      "[[0. 1.]\n",
      " [0. 1.]\n",
      " [1. 0.]\n",
      " ...\n",
      " [0. 1.]\n",
      " [1. 0.]\n",
      " [1. 0.]]\n",
      "['1', '1', '0', '1', '1', '1', '0', '1', '1', '1', '0', '0', '0', '1', '0', '0', '0', '1', '1', '1', '0', '1', '0', '1', '1', '0', '1', '0', '0', '1', '1', '0', '1', '0', '1', '1', '1', '1', '1', '0', '1', '1', '0', '1', '1', '1', '1', '0', '1', '1', '1', '0', '0', '1', '1', '0', '1', '0', '1', '0', '1', '0', '1', '0', '1', '0', '0', '1', '1', '1', '0', '1', '0', '0', '0', '0', '0', '1', '1', '0', '0', '0', '0', '1', '0', '0', '0', '1', '1', '0', '1', '1', '1', '0', '1', '1', '1', '0', '0', '0', '0', '0', '0', '1', '1', '0', '0', '1', '1', '0', '0', '1', '0', '0', '0', '1', '0', '0', '1', '1', '0', '0', '1', '1', '1', '1', '0', '0', '0', '0', '0', '1', '1', '1', '0', '1', '1', '0', '0', '1', '0', '1', '0', '0', '0', '0', '0', '1', '0', '1', '0', '0', '1', '0', '1', '1', '1', '0', '0', '0', '0', '1', '0', '0', '0', '1', '1', '0', '0', '1', '0', '1', '1', '0', '0', '1', '0', '0', '1', '0', '0', '0', '1', '1', '1', '0', '0', '0', '1', '1', '0', '1', '1', '0', '0', '0', '0', '1', '1', '1', '1', '0', '0', '1', '0', '0', '1', '1', '1', '1', '0', '0', '0', '1', '0', '1', '0', '0', '1', '0', '0', '1', '1', '0', '0', '0', '1', '1', '1', '1', '1', '0', '1', '0', '1', '0', '0', '1', '0', '0', '0', '0', '1', '0', '1', '0', '0', '1', '1', '1', '1', '1', '1', '1', '1', '0', '0', '0', '0', '0', '0', '0', '1', '1', '0', '0', '0', '0', '0', '0', '0', '0', '0', '1', '0', '0', '1', '1', '0', '1', '0', '1', '1', '0', '0', '1', '0', '1', '0', '0', '0', '0', '0', '1', '1', '1', '0', '1', '0', '0', '1', '1', '0', '1', '1', '0', '0', '0', '1', '1', '0', '0', '0', '1', '1', '0', '0', '1', '1', '0', '1', '1', '0', '1', '1', '1', '0', '1', '1', '1', '1', '1', '1', '0', '0', '0', '1', '1', '1', '1', '1', '1', '1', '0', '0', '1', '0', '1', '0', '1', '1', '0', '0', '1', '1', '1', '1', '1', '1', '1', '0', '1', '0', '1', '0', '1', '0', '1', '1', '1', '0', '0', '1', '1', '1', '1', '1', '1', '0', '1', '1', '1', '1', '1', '0', '1', '0', '0', '0', '0', '1', '0', '0', '0', '0', '1', '1', '0', '1', '0', '1', '1', '1', '1', '0', '0', '0', '1', '0', '1', '1', '0', '1', '1', '1', '0', '1', '1', '0', '1', '1', '1', '1', '1', '1', '1', '1', '0', '1', '0', '0', '1', '1', '0', '0', '1', '1', '1', '0', '1', '0', '1', '1', '1', '0', '0', '0', '1', '0', '1', '0', '1', '0', '1', '1', '0', '1', '1', '1', '0', '0', '0', '1', '1', '1', '1', '1', '1', '0', '0', '0', '0', '0', '0', '0', '1', '1', '1', '1', '1', '1', '1', '0', '1', '1', '0', '1', '1', '0', '1', '1', '1', '1', '0', '0', '1', '0', '0', '0', '0', '1', '1', '0', '0', '0', '1', '1', '1', '1', '0', '0', '1', '0', '1', '0', '0', '0', '1', '1', '0', '1', '0', '1', '0', '1', '1', '1', '0', '1', '1', '0', '0', '1', '1', '1', '1', '0', '1', '1', '0', '1', '1', '1', '0', '0', '0', '0', '1', '0', '0', '0', '0', '0', '1', '1', '0', '0', '1', '0', '1', '1', '0', '1', '0', '1', '0', '0', '0', '0', '1', '0', '1', '1', '1', '1', '1', '1', '1', '0', '1', '1', '1', '0', '0']\n"
     ]
    }
   ],
   "source": [
    "#Data prep, loading the dataset \n",
    "\n",
    "import datetime\n",
    "\n",
    "NAME = \"first_mdl_test\" + datetime.datetime.now().strftime(\"%Y%m%d-%H%M%S\")\n",
    "print(NAME)\n",
    "\n",
    "tensorboard = TensorBoard(log_dir=\"logs/{}\".format(NAME))\n",
    "\n",
    "pickle_in = open(\"train_x.pickle\",\"rb\")\n",
    "train_x = pickle.load(pickle_in)\n",
    "\n",
    "pickle_in = open(\"train_y.pickle\",\"rb\")\n",
    "train_y = pickle.load(pickle_in)\n",
    "\n",
    "train_x = train_x/255.0-0.5\n",
    "print(len(train_x))\n",
    "\n",
    "train_y_1D = train_y\n",
    "train_y = np.asarray(train_y).astype('float32').reshape((-1,1))\n",
    "\n",
    "train_y = tf.keras.utils.to_categorical(train_y)\n",
    "print(len(train_y))\n",
    "\n",
    "print(train_y)\n",
    "print(train_y_1D)"
   ]
  },
  {
   "cell_type": "code",
   "execution_count": 4,
   "id": "993f21f6",
   "metadata": {
    "scrolled": true
   },
   "outputs": [
    {
     "name": "stdout",
     "output_type": "stream",
     "text": [
      "['0', '0', '0', '0', '0', '0', '0', '1', '1', '0', '1', '0', '0', '0', '0', '0', '1', '1', '0', '1', '0', '0', '0', '1', '0', '1', '1', '1', '0', '1', '0', '1', '0', '1', '0', '1', '1', '0', '0', '0', '0', '1', '0', '0', '0', '1', '1', '1', '1', '1', '1', '0', '0', '1', '0', '1', '1', '0', '0']\n",
      "[[1. 0.]\n",
      " [1. 0.]\n",
      " [1. 0.]\n",
      " [1. 0.]\n",
      " [1. 0.]\n",
      " [1. 0.]\n",
      " [1. 0.]\n",
      " [0. 1.]\n",
      " [0. 1.]\n",
      " [1. 0.]\n",
      " [0. 1.]\n",
      " [1. 0.]\n",
      " [1. 0.]\n",
      " [1. 0.]\n",
      " [1. 0.]\n",
      " [1. 0.]\n",
      " [0. 1.]\n",
      " [0. 1.]\n",
      " [1. 0.]\n",
      " [0. 1.]\n",
      " [1. 0.]\n",
      " [1. 0.]\n",
      " [1. 0.]\n",
      " [0. 1.]\n",
      " [1. 0.]\n",
      " [0. 1.]\n",
      " [0. 1.]\n",
      " [0. 1.]\n",
      " [1. 0.]\n",
      " [0. 1.]\n",
      " [1. 0.]\n",
      " [0. 1.]\n",
      " [1. 0.]\n",
      " [0. 1.]\n",
      " [1. 0.]\n",
      " [0. 1.]\n",
      " [0. 1.]\n",
      " [1. 0.]\n",
      " [1. 0.]\n",
      " [1. 0.]\n",
      " [1. 0.]\n",
      " [0. 1.]\n",
      " [1. 0.]\n",
      " [1. 0.]\n",
      " [1. 0.]\n",
      " [0. 1.]\n",
      " [0. 1.]\n",
      " [0. 1.]\n",
      " [0. 1.]\n",
      " [0. 1.]\n",
      " [0. 1.]\n",
      " [1. 0.]\n",
      " [1. 0.]\n",
      " [0. 1.]\n",
      " [1. 0.]\n",
      " [0. 1.]\n",
      " [0. 1.]\n",
      " [1. 0.]\n",
      " [1. 0.]]\n"
     ]
    }
   ],
   "source": [
    "train_xx, test_x, train_yy_1D, test_y_1D = train_test_split(train_x, train_y_1D, test_size=0.1)\n",
    "\n",
    "#keeping 1D array of test label to use it for the confusion matrix \n",
    "train_yy = np.asarray(train_yy_1D).astype('float32').reshape((-1,1))\n",
    "train_yy = tf.keras.utils.to_categorical(train_yy)\n",
    "test_y = np.asarray(test_y_1D).astype('float32').reshape((-1,1))\n",
    "test_y = tf.keras.utils.to_categorical(test_y)\n",
    "print(test_y_1D)\n",
    "print(test_y)\n",
    "\n",
    "train_X, val_X, train_Y, val_Y = train_test_split(train_xx, train_yy, test_size=0.15) #split un test dataset de ici aussi, par defaut c'est shuffled "
   ]
  },
  {
   "cell_type": "code",
   "execution_count": 5,
   "id": "18d7eaec",
   "metadata": {},
   "outputs": [
    {
     "name": "stdout",
     "output_type": "stream",
     "text": [
      "<tf.Variable 'learning_rate:0' shape=() dtype=float32, numpy=0.001>\n"
     ]
    }
   ],
   "source": [
    "from keras import backend as K\n",
    "optimizer = tf.keras.optimizers.Adam(0.001)\n",
    "optimizer.learning_rate.assign(0.001)\n",
    "print(optimizer.learning_rate)"
   ]
  },
  {
   "cell_type": "code",
   "execution_count": 6,
   "id": "c4a0db90",
   "metadata": {},
   "outputs": [
    {
     "name": "stdout",
     "output_type": "stream",
     "text": [
      "Model: \"sequential\"\n",
      "_________________________________________________________________\n",
      "Layer (type)                 Output Shape              Param #   \n",
      "=================================================================\n",
      "conv2d (Conv2D)              (None, 126, 126, 64)      1792      \n",
      "_________________________________________________________________\n",
      "activation (Activation)      (None, 126, 126, 64)      0         \n",
      "_________________________________________________________________\n",
      "max_pooling2d (MaxPooling2D) (None, 63, 63, 64)        0         \n",
      "_________________________________________________________________\n",
      "conv2d_1 (Conv2D)            (None, 61, 61, 32)        18464     \n",
      "_________________________________________________________________\n",
      "activation_1 (Activation)    (None, 61, 61, 32)        0         \n",
      "_________________________________________________________________\n",
      "max_pooling2d_1 (MaxPooling2 (None, 30, 30, 32)        0         \n",
      "_________________________________________________________________\n",
      "conv2d_2 (Conv2D)            (None, 28, 28, 16)        4624      \n",
      "_________________________________________________________________\n",
      "activation_2 (Activation)    (None, 28, 28, 16)        0         \n",
      "_________________________________________________________________\n",
      "max_pooling2d_2 (MaxPooling2 (None, 14, 14, 16)        0         \n",
      "_________________________________________________________________\n",
      "flatten (Flatten)            (None, 3136)              0         \n",
      "_________________________________________________________________\n",
      "dense (Dense)                (None, 64)                200768    \n",
      "_________________________________________________________________\n",
      "activation_3 (Activation)    (None, 64)                0         \n",
      "_________________________________________________________________\n",
      "dense_1 (Dense)              (None, 2)                 130       \n",
      "_________________________________________________________________\n",
      "activation_4 (Activation)    (None, 2)                 0         \n",
      "=================================================================\n",
      "Total params: 225,778\n",
      "Trainable params: 225,778\n",
      "Non-trainable params: 0\n",
      "_________________________________________________________________\n"
     ]
    }
   ],
   "source": [
    "#Model\n",
    "\n",
    "model = Sequential()\n",
    "\n",
    "model.add(Conv2D(64, (3, 3), input_shape=train_x.shape[1:]))  #64param\n",
    "model.add(Activation('relu'))\n",
    "model.add(MaxPooling2D(pool_size=(2, 2)))\n",
    "\n",
    "model.add(Conv2D(32, (3, 3)))\n",
    "model.add(Activation('relu'))\n",
    "model.add(MaxPooling2D(pool_size=(2, 2)))\n",
    "\n",
    "model.add(Conv2D(16, (3, 3)))\n",
    "model.add(Activation('relu'))\n",
    "model.add(MaxPooling2D(pool_size=(2, 2)))\n",
    "\n",
    "model.add(Flatten())  # this converts our 3D feature maps to 1D feature vectors\n",
    "\n",
    "model.add(Dense(64)) #Fully connected layer, needs 1D ds\n",
    "model.add(Activation('relu'))\n",
    "\n",
    "model.add(Dense(2)) #mieux de faire sortir 2 classes \n",
    "model.add(Activation('softmax')) #activation=fct non lineaire, pb sigmoid=grad tres faible pr petites val -> mieux d'utiliser relu (grad 0 ou 1, pas de vanishing grad)\n",
    "\n",
    "model.compile(loss='categorical_crossentropy',\n",
    "              optimizer=optimizer,\n",
    "              metrics=['categorical_accuracy'])\n",
    "\n",
    "model.summary()"
   ]
  },
  {
   "cell_type": "code",
   "execution_count": 7,
   "id": "3b90a1b9",
   "metadata": {
    "scrolled": false
   },
   "outputs": [
    {
     "name": "stdout",
     "output_type": "stream",
     "text": [
      "Epoch 1/30\n",
      "75/75 [==============================] - 6s 68ms/step - loss: 0.6962 - categorical_accuracy: 0.5179 - val_loss: 0.6914 - val_categorical_accuracy: 0.4937\n",
      "Epoch 2/30\n",
      "75/75 [==============================] - 4s 56ms/step - loss: 0.6765 - categorical_accuracy: 0.5830 - val_loss: 0.6805 - val_categorical_accuracy: 0.5443\n",
      "Epoch 3/30\n",
      "75/75 [==============================] - 4s 60ms/step - loss: 0.6652 - categorical_accuracy: 0.6121 - val_loss: 0.6817 - val_categorical_accuracy: 0.5443\n",
      "Epoch 4/30\n",
      "75/75 [==============================] - 4s 51ms/step - loss: 0.6415 - categorical_accuracy: 0.6525 - val_loss: 0.6893 - val_categorical_accuracy: 0.5190\n",
      "Epoch 5/30\n",
      "75/75 [==============================] - 5s 61ms/step - loss: 0.6228 - categorical_accuracy: 0.6525 - val_loss: 0.7175 - val_categorical_accuracy: 0.5443\n",
      "Epoch 6/30\n",
      "75/75 [==============================] - 4s 51ms/step - loss: 0.5735 - categorical_accuracy: 0.6973 - val_loss: 0.7912 - val_categorical_accuracy: 0.4937\n",
      "Epoch 7/30\n",
      "75/75 [==============================] - 4s 48ms/step - loss: 0.5033 - categorical_accuracy: 0.7220 - val_loss: 0.9107 - val_categorical_accuracy: 0.4810\n",
      "Epoch 8/30\n",
      "75/75 [==============================] - 4s 52ms/step - loss: 0.4534 - categorical_accuracy: 0.7646 - val_loss: 0.9608 - val_categorical_accuracy: 0.4430\n",
      "Epoch 9/30\n",
      "75/75 [==============================] - 4s 58ms/step - loss: 0.3830 - categorical_accuracy: 0.7915 - val_loss: 1.0771 - val_categorical_accuracy: 0.4304\n",
      "Epoch 10/30\n",
      "75/75 [==============================] - 3s 44ms/step - loss: 0.3639 - categorical_accuracy: 0.8094 - val_loss: 1.1650 - val_categorical_accuracy: 0.4177\n",
      "Epoch 11/30\n",
      "75/75 [==============================] - 4s 47ms/step - loss: 0.2871 - categorical_accuracy: 0.8677 - val_loss: 1.7069 - val_categorical_accuracy: 0.4304\n",
      "Epoch 12/30\n",
      "75/75 [==============================] - 3s 47ms/step - loss: 0.2237 - categorical_accuracy: 0.9058 - val_loss: 1.7031 - val_categorical_accuracy: 0.4177\n",
      "Epoch 13/30\n",
      "75/75 [==============================] - 3s 44ms/step - loss: 0.1859 - categorical_accuracy: 0.9126 - val_loss: 2.5058 - val_categorical_accuracy: 0.4937\n",
      "Epoch 14/30\n",
      "75/75 [==============================] - 4s 50ms/step - loss: 0.1595 - categorical_accuracy: 0.9439 - val_loss: 2.4227 - val_categorical_accuracy: 0.4810\n",
      "Epoch 15/30\n",
      "75/75 [==============================] - 3s 44ms/step - loss: 0.1031 - categorical_accuracy: 0.9552 - val_loss: 3.1433 - val_categorical_accuracy: 0.4304\n",
      "Epoch 16/30\n",
      "75/75 [==============================] - 4s 51ms/step - loss: 0.0925 - categorical_accuracy: 0.9731 - val_loss: 3.0585 - val_categorical_accuracy: 0.4557\n",
      "Epoch 17/30\n",
      "75/75 [==============================] - 4s 51ms/step - loss: 0.0606 - categorical_accuracy: 0.9843 - val_loss: 3.6164 - val_categorical_accuracy: 0.4051\n",
      "Epoch 18/30\n",
      "75/75 [==============================] - 3s 47ms/step - loss: 0.0498 - categorical_accuracy: 0.9910 - val_loss: 3.8911 - val_categorical_accuracy: 0.4557\n",
      "Epoch 19/30\n",
      "75/75 [==============================] - 3s 44ms/step - loss: 0.1595 - categorical_accuracy: 0.9507 - val_loss: 2.7327 - val_categorical_accuracy: 0.4557\n",
      "Epoch 20/30\n",
      "75/75 [==============================] - 3s 42ms/step - loss: 0.0874 - categorical_accuracy: 0.9753 - val_loss: 3.2778 - val_categorical_accuracy: 0.4051\n",
      "Epoch 21/30\n",
      "75/75 [==============================] - 3s 46ms/step - loss: 0.0331 - categorical_accuracy: 0.9933 - val_loss: 3.3661 - val_categorical_accuracy: 0.4684\n",
      "Epoch 22/30\n",
      "75/75 [==============================] - 3s 47ms/step - loss: 0.0183 - categorical_accuracy: 1.0000 - val_loss: 3.7943 - val_categorical_accuracy: 0.4304\n",
      "Epoch 23/30\n",
      "75/75 [==============================] - 4s 53ms/step - loss: 0.0069 - categorical_accuracy: 1.0000 - val_loss: 4.1736 - val_categorical_accuracy: 0.4557\n",
      "Epoch 24/30\n",
      "75/75 [==============================] - 5s 66ms/step - loss: 0.0056 - categorical_accuracy: 1.0000 - val_loss: 4.3652 - val_categorical_accuracy: 0.4557\n",
      "Epoch 25/30\n",
      "75/75 [==============================] - 5s 68ms/step - loss: 0.0033 - categorical_accuracy: 1.0000 - val_loss: 4.6024 - val_categorical_accuracy: 0.4430\n",
      "Epoch 26/30\n",
      "75/75 [==============================] - 4s 60ms/step - loss: 0.0027 - categorical_accuracy: 1.0000 - val_loss: 4.7274 - val_categorical_accuracy: 0.4430\n",
      "Epoch 27/30\n",
      "75/75 [==============================] - 4s 47ms/step - loss: 0.0029 - categorical_accuracy: 1.0000 - val_loss: 4.9414 - val_categorical_accuracy: 0.4430\n",
      "Epoch 28/30\n",
      "75/75 [==============================] - 3s 46ms/step - loss: 0.0019 - categorical_accuracy: 1.0000 - val_loss: 5.2121 - val_categorical_accuracy: 0.4430\n",
      "Epoch 29/30\n",
      "75/75 [==============================] - 3s 46ms/step - loss: 0.0010 - categorical_accuracy: 1.0000 - val_loss: 5.2182 - val_categorical_accuracy: 0.4557\n",
      "Epoch 30/30\n",
      "75/75 [==============================] - 3s 46ms/step - loss: 6.2925e-04 - categorical_accuracy: 1.0000 - val_loss: 5.3462 - val_categorical_accuracy: 0.4430\n"
     ]
    },
    {
     "data": {
      "text/plain": [
       "<keras.callbacks.History at 0x229153ffb20>"
      ]
     },
     "execution_count": 7,
     "metadata": {},
     "output_type": "execute_result"
    }
   ],
   "source": [
    "model.fit(train_X ,train_Y, batch_size=6, epochs=30, validation_data = (val_X, val_Y) ,callbacks=[tensorboard])"
   ]
  },
  {
   "cell_type": "code",
   "execution_count": 8,
   "id": "18155d97",
   "metadata": {},
   "outputs": [
    {
     "name": "stdout",
     "output_type": "stream",
     "text": [
      "10/10 [==============================] - 0s 14ms/step - loss: 5.3860 - categorical_accuracy: 0.5763\n"
     ]
    },
    {
     "data": {
      "text/plain": [
       "[5.385970115661621, 0.5762711763381958]"
      ]
     },
     "execution_count": 8,
     "metadata": {},
     "output_type": "execute_result"
    }
   ],
   "source": [
    "model.evaluate(test_x, test_y, batch_size=6)"
   ]
  },
  {
   "cell_type": "code",
   "execution_count": 9,
   "id": "ec1b6241",
   "metadata": {},
   "outputs": [],
   "source": [
    "import visualkeras\n",
    "#source : https://github.com/paulgavrikov/visualkeras"
   ]
  },
  {
   "cell_type": "code",
   "execution_count": 10,
   "id": "b4b4bcf4",
   "metadata": {},
   "outputs": [
    {
     "data": {
      "image/png": "[encoded data removed]",
      "text/plain": [
       "<PIL.Image.Image image mode=RGBA size=811x672 at 0x2291C507580>"
      ]
     },
     "execution_count": 10,
     "metadata": {},
     "output_type": "execute_result"
    }
   ],
   "source": [
    "from tensorflow.python.keras.layers import Dense, Conv2D, Flatten, Dropout, MaxPooling2D, ZeroPadding2D\n",
    "from collections import defaultdict\n",
    "import visualkeras\n",
    "color_map = defaultdict(dict)\n",
    "color_map[Conv2D]['fill'] = 'lightpink'\n",
    "color_map[Activation]['fill'] = 'mediumvioletred'\n",
    "color_map[Dropout]['fill'] = 'pink'\n",
    "color_map[MaxPooling2D]['fill'] = 'mediumorchid'\n",
    "color_map[Dense]['fill'] = 'palevioletred'\n",
    "color_map[Flatten]['fill'] = 'plum'\n",
    "\n",
    "visualkeras.layered_view(model, color_map=color_map)"
   ]
  },
  {
   "cell_type": "code",
   "execution_count": 11,
   "id": "ca6a39ef",
   "metadata": {},
   "outputs": [],
   "source": [
    "from sklearn.metrics import confusion_matrix, make_scorer, accuracy_score,classification_report\n",
    "import itertools\n",
    "from skimage.io import imread,imsave,imshow"
   ]
  },
  {
   "cell_type": "code",
   "execution_count": 12,
   "id": "d3a43937",
   "metadata": {},
   "outputs": [],
   "source": [
    "def plot_confusion_matrix(cm, classes, normalize=True, title='Confusion matrix', cmap='RdPu'):\n",
    "    \"\"\"\n",
    "    This function prints and plots the confusion matrix.\n",
    "    Normalization can be applied by setting `normalize=True`.\n",
    "    \"\"\"\n",
    "    plt.figure(figsize=(7,7))\n",
    "    plt.imshow(cm, interpolation='nearest', cmap=cmap)\n",
    "    plt.title(title)\n",
    "    plt.colorbar()\n",
    "\n",
    "    tick_marks = np.arange(len(classes))\n",
    "    plt.xticks(tick_marks, classes, rotation=45)\n",
    "    plt.yticks(tick_marks, classes)\n",
    "\n",
    "    if normalize:\n",
    "        cm = cm.astype('float') / cm.sum(axis=1)[:, np.newaxis]\n",
    "        cm = np.around(cm, decimals=2)\n",
    "        cm[np.isnan(cm)] = 0.0\n",
    "        print(\"Normalized confusion matrix\")\n",
    "    else:\n",
    "        print('Confusion matrix, without normalization')\n",
    "    thresh = cm.max() / 2.\n",
    "    for i, j in itertools.product(range(cm.shape[0]), range(cm.shape[1])):\n",
    "        plt.text(j, i, cm[i, j],\n",
    "                 horizontalalignment=\"center\",\n",
    "                 color=\"black\" if cm[i, j] > thresh else \"black\")\n",
    "    plt.tight_layout()\n",
    "    plt.ylabel('True label')\n",
    "    plt.xlabel('Predicted label')\n",
    "    save = imsave('results/confusionmatrix.png',cm)\n",
    "#https://sites.google.com/view/amarnath-r/keras-deep-learning-image-classification-a-simple-example\n"
   ]
  },
  {
   "cell_type": "code",
   "execution_count": 14,
   "id": "7be67a13",
   "metadata": {},
   "outputs": [
    {
     "name": "stdout",
     "output_type": "stream",
     "text": [
      "(59,)\n",
      "Classification Report\n",
      "              precision    recall  f1-score   support\n",
      "\n",
      "           0       0.74      0.41      0.53        34\n",
      "           1       0.50      0.80      0.62        25\n",
      "\n",
      "    accuracy                           0.58        59\n",
      "   macro avg       0.62      0.61      0.57        59\n",
      "weighted avg       0.64      0.58      0.57        59\n",
      "\n"
     ]
    }
   ],
   "source": [
    "#use the test dataset\n",
    "Y_pred = model.predict(test_x)\n",
    "y_pred = np.argmax(Y_pred, axis=1)\n",
    "\n",
    "print(y_pred.shape)\n",
    "\n",
    "print('Classification Report')\n",
    "target_names = ['0', '1']\n",
    "print(classification_report(test_y_1D, y_pred.astype(str), target_names=target_names))\n",
    "#https://gist.github.com/RyanAkilos/3808c17f79e77c4117de35aa68447045"
   ]
  },
  {
   "cell_type": "code",
   "execution_count": 15,
   "id": "ded55258",
   "metadata": {},
   "outputs": [
    {
     "name": "stderr",
     "output_type": "stream",
     "text": [
      "Lossy conversion from float64 to uint8. Range [0, 1]. Convert image to uint8 prior to saving to suppress this warning.\n"
     ]
    },
    {
     "name": "stdout",
     "output_type": "stream",
     "text": [
      "Normalized confusion matrix\n"
     ]
    },
    {
     "data": {
      "image/png": "[encoded data removed]",
      "text/plain": [
       "<Figure size 504x504 with 2 Axes>"
      ]
     },
     "metadata": {
      "needs_background": "light"
     },
     "output_type": "display_data"
    }
   ],
   "source": [
    "#Confusion Matrix \n",
    "cm = confusion_matrix(test_y_1D,y_pred.astype(str))\n",
    "plot_confusion_matrix(cm, target_names, title='Confusion Matrix')"
   ]
  },
  {
   "cell_type": "code",
   "execution_count": null,
   "id": "92ccb061",
   "metadata": {},
   "outputs": [],
   "source": []
  }
 ],
 "metadata": {
  "kernelspec": {
   "display_name": "Python 3 (ipykernel)",
   "language": "python",
   "name": "python3"
  },
  "language_info": {
   "codemirror_mode": {
    "name": "ipython",
    "version": 3
   },
   "file_extension": ".py",
   "mimetype": "text/x-python",
   "name": "python",
   "nbconvert_exporter": "python",
   "pygments_lexer": "ipython3",
   "version": "3.9.7"
  }
 },
 "nbformat": 4,
 "nbformat_minor": 5
}
