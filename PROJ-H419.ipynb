{
 "cells": [
  {
   "cell_type": "code",
   "execution_count": 1,
   "id": "8efd7a1b",
   "metadata": {},
   "outputs": [
    {
     "name": "stdout",
     "output_type": "stream",
     "text": [
      "numpy: 1.21.2\n",
      "pandas: 1.3.4\n",
      "tensorflow: 2.6.0\n"
     ]
    }
   ],
   "source": [
    "# basics code from https://www.kaggle.com/abdelrhmanhosny/brain-tumor-classification/notebook\n",
    "import numpy as np # linear algebra\n",
    "print('numpy: {}'.format(np.__version__))\n",
    "import pandas as pd # data processing, CSV file I/O (e.g. pd.read_csv)\n",
    "print('pandas: {}'.format(pd.__version__))\n",
    "import matplotlib.pyplot as plt\n",
    "import os\n",
    "from os.path import join\n",
    "import sys\n",
    "from sklearn.model_selection import train_test_split\n",
    "# pytorch model\n",
    "\n",
    "import torch\n",
    "from torch import nn\n",
    "from torch.nn import functional as F\n",
    "import torchvision\n",
    "from torch.utils.data import DataLoader, Dataset\n",
    "\n",
    "# pyTorch Lightning\n",
    "\n",
    "import pytorch_lightning as pl\n",
    "from torchmetrics import Accuracy\n",
    "\n",
    "# image processing\n",
    "\n",
    "from skimage.io import imread\n",
    "from scipy.ndimage import zoom # image resizing 3D\n",
    "from skimage.transform import resize\n",
    "import pydicom as dicom\n",
    "from pydicom.pixel_data_handlers.util import apply_voi_lut\n",
    "\n",
    "import tensorflow as tf\n",
    "print('tensorflow: {}'.format(tf.__version__))\n",
    "from tensorflow import keras\n",
    "import seaborn as sns\n",
    "\n",
    "import re"
   ]
  },
  {
   "cell_type": "code",
   "execution_count": 2,
   "id": "d58a4a48",
   "metadata": {},
   "outputs": [
    {
     "data": {
      "text/plain": [
       "<AxesSubplot:xlabel='value', ylabel='count'>"
      ]
     },
     "execution_count": 2,
     "metadata": {},
     "output_type": "execute_result"
    },
    {
     "data": {
      "image/png": "[encoded data removed]",
      "text/plain": [
       "<Figure size 360x288 with 1 Axes>"
      ]
     },
     "metadata": {
      "needs_background": "light"
     },
     "output_type": "display_data"
    }
   ],
   "source": [
    "#open the training labels data \n",
    "df = pd.read_csv(\"E:\\\\Proj_data/train_labels.csv\", header=0, names=['id','value'], dtype=object)\n",
    "exclude_cases = [\"00109\", \"00123\", \"00709\"] #according to description\n",
    "df = df[~df.id.isin(exclude_cases)]\n",
    "df.head()\n",
    "\n",
    "# values distribution\n",
    "plt.figure(figsize=(5, 4))\n",
    "sns.countplot(data=df, x=\"value\")"
   ]
  },
  {
   "cell_type": "code",
   "execution_count": 3,
   "id": "811c53bb",
   "metadata": {},
   "outputs": [
    {
     "name": "stdout",
     "output_type": "stream",
     "text": [
      "Train folder created\n",
      "Validation folder created\n"
     ]
    }
   ],
   "source": [
    "#create output dataset folders\n",
    "os.makedirs('./train', exist_ok = True)\n",
    "print('Train folder created')\n",
    "\n",
    "os.makedirs('./validation', exist_ok = True)\n",
    "print('Validation folder created')"
   ]
  },
  {
   "cell_type": "code",
   "execution_count": 8,
   "id": "d5b4ce06",
   "metadata": {
    "scrolled": false
   },
   "outputs": [
    {
     "name": "stdout",
     "output_type": "stream",
     "text": [
      "len= 529\n",
      "endpath= Image-264.dcm\n",
      "[]\n"
     ]
    },
    {
     "ename": "IndexError",
     "evalue": "list index out of range",
     "output_type": "error",
     "traceback": [
      "\u001b[1;31m---------------------------------------------------------------------------\u001b[0m",
      "\u001b[1;31mIndexError\u001b[0m                                Traceback (most recent call last)",
      "\u001b[1;32m~\\AppData\\Local\\Temp/ipykernel_18348/2350632135.py\u001b[0m in \u001b[0;36m<module>\u001b[1;34m\u001b[0m\n\u001b[0;32m     56\u001b[0m     \u001b[1;32mfor\u001b[0m \u001b[0mi\u001b[0m \u001b[1;32min\u001b[0m \u001b[0mrange\u001b[0m\u001b[1;33m(\u001b[0m\u001b[1;36m10\u001b[0m\u001b[1;33m)\u001b[0m \u001b[1;33m:\u001b[0m \u001b[1;31m#display 10 images from our data list\u001b[0m\u001b[1;33m\u001b[0m\u001b[1;33m\u001b[0m\u001b[0m\n\u001b[0;32m     57\u001b[0m         \u001b[0mprint\u001b[0m\u001b[1;33m(\u001b[0m\u001b[0mdata_array\u001b[0m\u001b[1;33m)\u001b[0m\u001b[1;33m\u001b[0m\u001b[1;33m\u001b[0m\u001b[0m\n\u001b[1;32m---> 58\u001b[1;33m         \u001b[0mdata3\u001b[0m \u001b[1;33m=\u001b[0m \u001b[0mzfile\u001b[0m\u001b[1;33m.\u001b[0m\u001b[0mopen\u001b[0m\u001b[1;33m(\u001b[0m\u001b[0mdata_array\u001b[0m\u001b[1;33m[\u001b[0m\u001b[0mi\u001b[0m\u001b[1;33m]\u001b[0m\u001b[1;33m)\u001b[0m\u001b[1;33m\u001b[0m\u001b[1;33m\u001b[0m\u001b[0m\n\u001b[0m\u001b[0;32m     59\u001b[0m         \u001b[0mds3\u001b[0m \u001b[1;33m=\u001b[0m \u001b[0mdicom\u001b[0m\u001b[1;33m.\u001b[0m\u001b[0mdcmread\u001b[0m\u001b[1;33m(\u001b[0m\u001b[0mdata3\u001b[0m\u001b[1;33m)\u001b[0m\u001b[1;33m\u001b[0m\u001b[1;33m\u001b[0m\u001b[0m\n\u001b[0;32m     60\u001b[0m         \u001b[0mplt\u001b[0m\u001b[1;33m.\u001b[0m\u001b[0mimshow\u001b[0m\u001b[1;33m(\u001b[0m\u001b[0mds3\u001b[0m\u001b[1;33m.\u001b[0m\u001b[0mpixel_array\u001b[0m\u001b[1;33m,\u001b[0m \u001b[0mcmap\u001b[0m\u001b[1;33m=\u001b[0m\u001b[0mplt\u001b[0m\u001b[1;33m.\u001b[0m\u001b[0mcm\u001b[0m\u001b[1;33m.\u001b[0m\u001b[0mbone\u001b[0m\u001b[1;33m)\u001b[0m  \u001b[1;31m# set the color map to bone\u001b[0m\u001b[1;33m\u001b[0m\u001b[1;33m\u001b[0m\u001b[0m\n",
      "\u001b[1;31mIndexError\u001b[0m: list index out of range"
     ]
    }
   ],
   "source": [
    "import zipfile\n",
    "from zipfile import Path\n",
    "\n",
    "#extraire une seule slice du milieu pour commencer cad une seule image des dossiers   \n",
    "filepath = 'E:\\\\Proj_data/train.zip'\n",
    "with zipfile.ZipFile(filepath, 'r') as zfile:\n",
    "    #zfile.printdir()\n",
    "    data = zfile.open('00009/T1wCE/Image-150.dcm')  #test\n",
    "    data2 = zfile.open('00002/T1wCE/Image-50.dcm')  #test\n",
    "    \n",
    "    data_array = []\n",
    "    length = 10\n",
    "    \n",
    "    n_list = []\n",
    "    \n",
    "    def get_list(p3) :  #get a list with the number of images inside our file\n",
    "        string1 = p3[1]\n",
    "        n = int(re.search(r'\\d+', string1).group()) #gives the number part of the name file (ex: gets 20 from Image-20)\n",
    "        n_list.append(n)\n",
    "        return n_list\n",
    "\n",
    "    def get_path(n_list): #creates an image path for the middle slice of our file \n",
    "        n_max=len(n_list) \n",
    "        print('len=', n_max)\n",
    "        n2 = int(n_max/2)\n",
    "        endpath = f'Image-{n2}.dcm'\n",
    "        print('endpath=', endpath)\n",
    "        return endpath\n",
    "    \n",
    "    for file in zfile.namelist() :  #pb: on prend image par image donc boucle counter ne fonctionne pas correctement  \n",
    "        p1 = os.path.split(file) \n",
    "        p2 = os.path.split(p1[0])\n",
    "        p3 = os.path.split(p1[1]) \n",
    "        m=0\n",
    "        type1 = ['FLAIR', 'T1w', 'T1wCE', 'T2w']\n",
    "        \n",
    "        for counter in range(3): #get the images from the 3 first FLAIR files, works if we put range(1) meaning only for the file 0000 for now  \n",
    "            try:\n",
    "                dossier = f'0{str(counter).zfill(4)}' #file 00001 doesnt exist (same for other ones)\n",
    "                type_im =type1[m]\n",
    "                if (p2[0]==dossier and p2[1]==type_im) :\n",
    "                    n_list = get_list(p3)\n",
    "            except :  #(p2[0]!=dossier) if the file doesnt exist, we go to the next one --> this doesnt work, we dont get an error message if the file doesnt exist  \n",
    "                counter+=1\n",
    "    \n",
    "    endpath=get_path(n_list)\n",
    "    \n",
    "    for file in zfile.namelist() : \n",
    "        p1 = os.path.split(file)\n",
    "        p2 = os.path.split(p1[0])\n",
    "        p3 = os.path.split(p1[1])\n",
    "        if (p3[1]==endpath and p2[0]==dossier and p2[1]==type_im) :   #if we have the right image, we add it to our data list\n",
    "            data_array.append(file)\n",
    "            print('okkkk')\n",
    "  \n",
    "    for i in range(10) : #display 10 images from our data list, we get list index out of range which is normal since the list is empty \n",
    "        print(data_array)\n",
    "        data3 = zfile.open(data_array[i])\n",
    "        ds3 = dicom.dcmread(data3)\n",
    "        plt.imshow(ds3.pixel_array, cmap=plt.cm.bone)  # set the color map to bone\n",
    "        plt.show()\n",
    "        \n",
    "#ds = dicom.dcmread(data)\n",
    "#ds2 = dicom.dcmread(data2)\n",
    "\n",
    "  \n",
    "#plt.imshow(ds.pixel_array, cmap=plt.cm.bone)  # set the color map to bone\n",
    "#plt.show()\n",
    "  \n",
    "#plt.imshow(ds2.pixel_array, cmap=plt.cm.bone)  # set the color map to bone\n",
    "#plt.show()\n"
   ]
  },
  {
   "cell_type": "code",
   "execution_count": 13,
   "id": "5efc01fc",
   "metadata": {},
   "outputs": [],
   "source": [
    "#to convert the image format \n",
    "#doesnt work anymore ??\n",
    "\n",
    "#fabriquer base de donnée plus petite\n",
    "data_array.append('./train/00071_T1wCE_Image-51.dcm')\n",
    "with zipfile.ZipFile(filepath, 'r') as zfile:\n",
    "    for i in range(200) :\n",
    "        if (data_array==[]) :\n",
    "            print('Empty list')\n",
    "            break\n",
    "        else :\n",
    "            for j in range(len(data_array)):  #reussir a sortir chaque filepath de la list\n",
    "                if 'FLAIR' in data_array[j] :  #garder juste les image de flair pour commencer  \n",
    "                    data = zfile.open(data_array[j])\n",
    "                    print(data)\n",
    "                    ds = dicom.dcmread(data)\n",
    "                    image_path = file  ##+ data_array[j] #'./train/00071_T1wCE_Image-51.dcm'\n",
    "                    pixel_array_numpy = ds.pixel_array\n",
    "                    print(pixel_array_numpy)\n",
    "                    print(type(pixel_array_numpy))\n",
    " \n",
    "                    image_format = '.png'\n",
    "                    image_path = image_path.replace('.dcm', image_format) #convertir type d'image de dcm en png\n",
    "\n",
    "                    plt.imsave(image_path, pixel_array_numpy)"
   ]
  },
  {
   "cell_type": "code",
   "execution_count": null,
   "id": "0308311e",
   "metadata": {},
   "outputs": [],
   "source": []
  }
 ],
 "metadata": {
  "kernelspec": {
   "display_name": "Python 3 (ipykernel)",
   "language": "python",
   "name": "python3"
  },
  "language_info": {
   "codemirror_mode": {
    "name": "ipython",
    "version": 3
   },
   "file_extension": ".py",
   "mimetype": "text/x-python",
   "name": "python",
   "nbconvert_exporter": "python",
   "pygments_lexer": "ipython3",
   "version": "3.9.7"
  }
 },
 "nbformat": 4,
 "nbformat_minor": 5
}
